{
  "nbformat": 4,
  "nbformat_minor": 0,
  "metadata": {
    "colab": {
      "provenance": []
    },
    "kernelspec": {
      "name": "python3",
      "display_name": "Python 3"
    },
    "language_info": {
      "name": "python"
    }
  },
  "cells": [
    {
      "cell_type": "code",
      "execution_count": 1,
      "metadata": {
        "id": "9j8W_qdHSPbn"
      },
      "outputs": [],
      "source": [
        "import pandas as pd\n",
        "from sklearn.preprocessing import StandardScaler, LabelEncoder\n",
        "from sklearn.model_selection import train_test_split\n",
        "from sklearn.metrics import accuracy_score, classification_report, confusion_matrix\n",
        "from tensorflow.keras.models import Sequential\n",
        "from tensorflow.keras.layers import Dense, Dropout\n"
      ]
    },
    {
      "cell_type": "code",
      "source": [
        "# Load the data\n",
        "data = pd.read_csv('Churn_Modelling.csv')\n"
      ],
      "metadata": {
        "id": "vN4wfW4cT1rV"
      },
      "execution_count": 2,
      "outputs": []
    },
    {
      "cell_type": "code",
      "source": [
        "print(data.head())"
      ],
      "metadata": {
        "colab": {
          "base_uri": "https://localhost:8080/"
        },
        "id": "IorYFkFFT1vs",
        "outputId": "6e8876f7-cc4e-4f83-bfac-3f60857d6e4d"
      },
      "execution_count": 3,
      "outputs": [
        {
          "output_type": "stream",
          "name": "stdout",
          "text": [
            "   RowNumber  CustomerId   Surname  CreditScore Geography  Gender  Age  \\\n",
            "0          1    15634602  Hargrave          619    France  Female   42   \n",
            "1          2    15647311      Hill          608     Spain  Female   41   \n",
            "2          3    15619304      Onio          502    France  Female   42   \n",
            "3          4    15701354      Boni          699    France  Female   39   \n",
            "4          5    15737888  Mitchell          850     Spain  Female   43   \n",
            "\n",
            "   Tenure    Balance  NumOfProducts  HasCrCard  IsActiveMember  \\\n",
            "0       2       0.00              1          1               1   \n",
            "1       1   83807.86              1          0               1   \n",
            "2       8  159660.80              3          1               0   \n",
            "3       1       0.00              2          0               0   \n",
            "4       2  125510.82              1          1               1   \n",
            "\n",
            "   EstimatedSalary  Exited  \n",
            "0        101348.88       1  \n",
            "1        112542.58       0  \n",
            "2        113931.57       1  \n",
            "3         93826.63       0  \n",
            "4         79084.10       0  \n"
          ]
        }
      ]
    },
    {
      "cell_type": "markdown",
      "source": [
        "***Preprocessing***"
      ],
      "metadata": {
        "id": "cpUsPQbjUkPm"
      }
    },
    {
      "cell_type": "code",
      "source": [
        "data.isnull().sum()"
      ],
      "metadata": {
        "colab": {
          "base_uri": "https://localhost:8080/"
        },
        "id": "5YiHKyEoT10u",
        "outputId": "b81afb4e-8316-4954-e0dd-630225fd49db"
      },
      "execution_count": 4,
      "outputs": [
        {
          "output_type": "execute_result",
          "data": {
            "text/plain": [
              "RowNumber          0\n",
              "CustomerId         0\n",
              "Surname            0\n",
              "CreditScore        0\n",
              "Geography          0\n",
              "Gender             0\n",
              "Age                0\n",
              "Tenure             0\n",
              "Balance            0\n",
              "NumOfProducts      0\n",
              "HasCrCard          0\n",
              "IsActiveMember     0\n",
              "EstimatedSalary    0\n",
              "Exited             0\n",
              "dtype: int64"
            ]
          },
          "metadata": {},
          "execution_count": 4
        }
      ]
    },
    {
      "cell_type": "markdown",
      "source": [
        "**Encoding categorical**"
      ],
      "metadata": {
        "id": "SS7JhRzQXyoy"
      }
    },
    {
      "cell_type": "code",
      "source": [
        "label_encoder_geography = LabelEncoder()\n",
        "label_encoder_gender = LabelEncoder()\n",
        "\n",
        "data['Geography'] = label_encoder_geography.fit_transform(data['Geography'])\n",
        "data['Gender'] = label_encoder_gender.fit_transform(data['Gender'])\n"
      ],
      "metadata": {
        "id": "4fvSB4dhX1wN"
      },
      "execution_count": 5,
      "outputs": []
    },
    {
      "cell_type": "code",
      "source": [
        "geography_mapping = dict(zip(label_encoder_geography.classes_, label_encoder_geography.transform(label_encoder_geography.classes_)))\n",
        "gender_mapping = dict(zip(label_encoder_gender.classes_, label_encoder_gender.transform(label_encoder_gender.classes_)))\n",
        "\n",
        "print(\"Geography Mapping:\", geography_mapping)\n",
        "print(\"Gender Mapping:\", gender_mapping)"
      ],
      "metadata": {
        "colab": {
          "base_uri": "https://localhost:8080/"
        },
        "id": "cmcIJkOkX6pg",
        "outputId": "b509e843-dbaa-42ad-9af4-afce03d896ff"
      },
      "execution_count": 6,
      "outputs": [
        {
          "output_type": "stream",
          "name": "stdout",
          "text": [
            "Geography Mapping: {'France': 0, 'Germany': 1, 'Spain': 2}\n",
            "Gender Mapping: {'Female': 0, 'Male': 1}\n"
          ]
        }
      ]
    },
    {
      "cell_type": "markdown",
      "source": [
        "**Scaling**"
      ],
      "metadata": {
        "id": "o0JzapfCd4He"
      }
    },
    {
      "cell_type": "code",
      "source": [
        "# Select features and target\n",
        "X = data.drop(['RowNumber', 'CustomerId', 'Surname', 'Exited'], axis=1)\n",
        "y = data['Exited']\n",
        "\n",
        "# Scale the features\n",
        "scaler = StandardScaler()\n",
        "X_scaled = scaler.fit_transform(X)\n"
      ],
      "metadata": {
        "id": "EMpPdETPYnV7"
      },
      "execution_count": 7,
      "outputs": []
    },
    {
      "cell_type": "markdown",
      "source": [
        "**Train_Test_Split**"
      ],
      "metadata": {
        "id": "V54nii_DeAoy"
      }
    },
    {
      "cell_type": "code",
      "source": [
        "X_train, X_test, y_train, y_test = train_test_split(X_scaled, y, test_size=0.2, random_state=42)\n"
      ],
      "metadata": {
        "id": "OLrTu3rdYnZZ"
      },
      "execution_count": 8,
      "outputs": []
    },
    {
      "cell_type": "markdown",
      "source": [
        "**Build and Train the Neural Network**"
      ],
      "metadata": {
        "id": "yxUMZHr-f1Tv"
      }
    },
    {
      "cell_type": "code",
      "source": [
        "# Build the neural network\n",
        "model = Sequential()\n",
        "model.add(Dense(16, input_dim=X_train.shape[1], activation='relu'))\n",
        "model.add(Dropout(0.5))\n",
        "model.add(Dense(8, activation='relu'))\n",
        "model.add(Dense(1, activation='sigmoid'))\n",
        "\n",
        "# Compile the model\n",
        "model.compile(optimizer='adam', loss='binary_crossentropy', metrics=['accuracy'])\n",
        "\n",
        "# Train the model\n",
        "history = model.fit(X_train, y_train, epochs=100, batch_size=32, validation_data=(X_test, y_test))\n"
      ],
      "metadata": {
        "colab": {
          "base_uri": "https://localhost:8080/"
        },
        "id": "uUZStxw7f7I1",
        "outputId": "e54593c0-8234-4fee-fca8-8d6b92ac5825"
      },
      "execution_count": 9,
      "outputs": [
        {
          "output_type": "stream",
          "name": "stdout",
          "text": [
            "Epoch 1/100\n",
            "250/250 [==============================] - 4s 7ms/step - loss: 0.5938 - accuracy: 0.7189 - val_loss: 0.4850 - val_accuracy: 0.8055\n",
            "Epoch 2/100\n",
            "250/250 [==============================] - 1s 4ms/step - loss: 0.5015 - accuracy: 0.7941 - val_loss: 0.4469 - val_accuracy: 0.8035\n",
            "Epoch 3/100\n",
            "250/250 [==============================] - 1s 3ms/step - loss: 0.4769 - accuracy: 0.7960 - val_loss: 0.4340 - val_accuracy: 0.8035\n",
            "Epoch 4/100\n",
            "250/250 [==============================] - 1s 3ms/step - loss: 0.4676 - accuracy: 0.7981 - val_loss: 0.4247 - val_accuracy: 0.8040\n",
            "Epoch 5/100\n",
            "250/250 [==============================] - 1s 3ms/step - loss: 0.4528 - accuracy: 0.7999 - val_loss: 0.4166 - val_accuracy: 0.8070\n",
            "Epoch 6/100\n",
            "250/250 [==============================] - 1s 3ms/step - loss: 0.4508 - accuracy: 0.8043 - val_loss: 0.4109 - val_accuracy: 0.8120\n",
            "Epoch 7/100\n",
            "250/250 [==============================] - 1s 3ms/step - loss: 0.4455 - accuracy: 0.8071 - val_loss: 0.4040 - val_accuracy: 0.8205\n",
            "Epoch 8/100\n",
            "250/250 [==============================] - 1s 4ms/step - loss: 0.4432 - accuracy: 0.8158 - val_loss: 0.4015 - val_accuracy: 0.8290\n",
            "Epoch 9/100\n",
            "250/250 [==============================] - 1s 4ms/step - loss: 0.4312 - accuracy: 0.8155 - val_loss: 0.3944 - val_accuracy: 0.8365\n",
            "Epoch 10/100\n",
            "250/250 [==============================] - 1s 4ms/step - loss: 0.4272 - accuracy: 0.8154 - val_loss: 0.3876 - val_accuracy: 0.8375\n",
            "Epoch 11/100\n",
            "250/250 [==============================] - 1s 4ms/step - loss: 0.4262 - accuracy: 0.8170 - val_loss: 0.3812 - val_accuracy: 0.8460\n",
            "Epoch 12/100\n",
            "250/250 [==============================] - 1s 4ms/step - loss: 0.4117 - accuracy: 0.8245 - val_loss: 0.3749 - val_accuracy: 0.8525\n",
            "Epoch 13/100\n",
            "250/250 [==============================] - 1s 4ms/step - loss: 0.4174 - accuracy: 0.8249 - val_loss: 0.3703 - val_accuracy: 0.8515\n",
            "Epoch 14/100\n",
            "250/250 [==============================] - 1s 3ms/step - loss: 0.4100 - accuracy: 0.8279 - val_loss: 0.3661 - val_accuracy: 0.8480\n",
            "Epoch 15/100\n",
            "250/250 [==============================] - 1s 4ms/step - loss: 0.4053 - accuracy: 0.8317 - val_loss: 0.3624 - val_accuracy: 0.8525\n",
            "Epoch 16/100\n",
            "250/250 [==============================] - 1s 5ms/step - loss: 0.4005 - accuracy: 0.8326 - val_loss: 0.3625 - val_accuracy: 0.8575\n",
            "Epoch 17/100\n",
            "250/250 [==============================] - 1s 5ms/step - loss: 0.4009 - accuracy: 0.8280 - val_loss: 0.3598 - val_accuracy: 0.8525\n",
            "Epoch 18/100\n",
            "250/250 [==============================] - 1s 4ms/step - loss: 0.3987 - accuracy: 0.8328 - val_loss: 0.3578 - val_accuracy: 0.8535\n",
            "Epoch 19/100\n",
            "250/250 [==============================] - 1s 3ms/step - loss: 0.3935 - accuracy: 0.8321 - val_loss: 0.3561 - val_accuracy: 0.8535\n",
            "Epoch 20/100\n",
            "250/250 [==============================] - 1s 3ms/step - loss: 0.3982 - accuracy: 0.8332 - val_loss: 0.3578 - val_accuracy: 0.8540\n",
            "Epoch 21/100\n",
            "250/250 [==============================] - 1s 3ms/step - loss: 0.3936 - accuracy: 0.8382 - val_loss: 0.3563 - val_accuracy: 0.8540\n",
            "Epoch 22/100\n",
            "250/250 [==============================] - 1s 4ms/step - loss: 0.3935 - accuracy: 0.8324 - val_loss: 0.3576 - val_accuracy: 0.8565\n",
            "Epoch 23/100\n",
            "250/250 [==============================] - 1s 4ms/step - loss: 0.3903 - accuracy: 0.8376 - val_loss: 0.3576 - val_accuracy: 0.8560\n",
            "Epoch 24/100\n",
            "250/250 [==============================] - 1s 5ms/step - loss: 0.3911 - accuracy: 0.8369 - val_loss: 0.3550 - val_accuracy: 0.8525\n",
            "Epoch 25/100\n",
            "250/250 [==============================] - 1s 4ms/step - loss: 0.3907 - accuracy: 0.8342 - val_loss: 0.3560 - val_accuracy: 0.8550\n",
            "Epoch 26/100\n",
            "250/250 [==============================] - 1s 3ms/step - loss: 0.3902 - accuracy: 0.8375 - val_loss: 0.3560 - val_accuracy: 0.8555\n",
            "Epoch 27/100\n",
            "250/250 [==============================] - 1s 3ms/step - loss: 0.3898 - accuracy: 0.8369 - val_loss: 0.3565 - val_accuracy: 0.8560\n",
            "Epoch 28/100\n",
            "250/250 [==============================] - 1s 3ms/step - loss: 0.3846 - accuracy: 0.8415 - val_loss: 0.3560 - val_accuracy: 0.8555\n",
            "Epoch 29/100\n",
            "250/250 [==============================] - 1s 4ms/step - loss: 0.3893 - accuracy: 0.8389 - val_loss: 0.3542 - val_accuracy: 0.8570\n",
            "Epoch 30/100\n",
            "250/250 [==============================] - 1s 3ms/step - loss: 0.3878 - accuracy: 0.8351 - val_loss: 0.3527 - val_accuracy: 0.8565\n",
            "Epoch 31/100\n",
            "250/250 [==============================] - 1s 3ms/step - loss: 0.3829 - accuracy: 0.8406 - val_loss: 0.3532 - val_accuracy: 0.8560\n",
            "Epoch 32/100\n",
            "250/250 [==============================] - 1s 3ms/step - loss: 0.3844 - accuracy: 0.8401 - val_loss: 0.3513 - val_accuracy: 0.8560\n",
            "Epoch 33/100\n",
            "250/250 [==============================] - 1s 4ms/step - loss: 0.3894 - accuracy: 0.8384 - val_loss: 0.3507 - val_accuracy: 0.8550\n",
            "Epoch 34/100\n",
            "250/250 [==============================] - 1s 3ms/step - loss: 0.3860 - accuracy: 0.8395 - val_loss: 0.3531 - val_accuracy: 0.8550\n",
            "Epoch 35/100\n",
            "250/250 [==============================] - 1s 3ms/step - loss: 0.3813 - accuracy: 0.8374 - val_loss: 0.3526 - val_accuracy: 0.8565\n",
            "Epoch 36/100\n",
            "250/250 [==============================] - 1s 3ms/step - loss: 0.3887 - accuracy: 0.8403 - val_loss: 0.3551 - val_accuracy: 0.8545\n",
            "Epoch 37/100\n",
            "250/250 [==============================] - 1s 3ms/step - loss: 0.3840 - accuracy: 0.8406 - val_loss: 0.3522 - val_accuracy: 0.8535\n",
            "Epoch 38/100\n",
            "250/250 [==============================] - 1s 3ms/step - loss: 0.3853 - accuracy: 0.8378 - val_loss: 0.3524 - val_accuracy: 0.8540\n",
            "Epoch 39/100\n",
            "250/250 [==============================] - 1s 4ms/step - loss: 0.3815 - accuracy: 0.8399 - val_loss: 0.3525 - val_accuracy: 0.8515\n",
            "Epoch 40/100\n",
            "250/250 [==============================] - 1s 4ms/step - loss: 0.3789 - accuracy: 0.8434 - val_loss: 0.3476 - val_accuracy: 0.8540\n",
            "Epoch 41/100\n",
            "250/250 [==============================] - 1s 4ms/step - loss: 0.3797 - accuracy: 0.8428 - val_loss: 0.3519 - val_accuracy: 0.8550\n",
            "Epoch 42/100\n",
            "250/250 [==============================] - 1s 4ms/step - loss: 0.3829 - accuracy: 0.8434 - val_loss: 0.3533 - val_accuracy: 0.8545\n",
            "Epoch 43/100\n",
            "250/250 [==============================] - 1s 3ms/step - loss: 0.3812 - accuracy: 0.8422 - val_loss: 0.3539 - val_accuracy: 0.8540\n",
            "Epoch 44/100\n",
            "250/250 [==============================] - 1s 2ms/step - loss: 0.3842 - accuracy: 0.8379 - val_loss: 0.3548 - val_accuracy: 0.8540\n",
            "Epoch 45/100\n",
            "250/250 [==============================] - 1s 3ms/step - loss: 0.3790 - accuracy: 0.8419 - val_loss: 0.3535 - val_accuracy: 0.8555\n",
            "Epoch 46/100\n",
            "250/250 [==============================] - 1s 3ms/step - loss: 0.3818 - accuracy: 0.8410 - val_loss: 0.3556 - val_accuracy: 0.8545\n",
            "Epoch 47/100\n",
            "250/250 [==============================] - 1s 3ms/step - loss: 0.3823 - accuracy: 0.8385 - val_loss: 0.3536 - val_accuracy: 0.8520\n",
            "Epoch 48/100\n",
            "250/250 [==============================] - 1s 3ms/step - loss: 0.3819 - accuracy: 0.8401 - val_loss: 0.3546 - val_accuracy: 0.8550\n",
            "Epoch 49/100\n",
            "250/250 [==============================] - 1s 3ms/step - loss: 0.3787 - accuracy: 0.8410 - val_loss: 0.3514 - val_accuracy: 0.8535\n",
            "Epoch 50/100\n",
            "250/250 [==============================] - 1s 4ms/step - loss: 0.3787 - accuracy: 0.8414 - val_loss: 0.3524 - val_accuracy: 0.8535\n",
            "Epoch 51/100\n",
            "250/250 [==============================] - 1s 3ms/step - loss: 0.3840 - accuracy: 0.8399 - val_loss: 0.3548 - val_accuracy: 0.8565\n",
            "Epoch 52/100\n",
            "250/250 [==============================] - 1s 3ms/step - loss: 0.3794 - accuracy: 0.8413 - val_loss: 0.3488 - val_accuracy: 0.8570\n",
            "Epoch 53/100\n",
            "250/250 [==============================] - 1s 3ms/step - loss: 0.3746 - accuracy: 0.8415 - val_loss: 0.3469 - val_accuracy: 0.8585\n",
            "Epoch 54/100\n",
            "250/250 [==============================] - 1s 3ms/step - loss: 0.3776 - accuracy: 0.8413 - val_loss: 0.3494 - val_accuracy: 0.8565\n",
            "Epoch 55/100\n",
            "250/250 [==============================] - 1s 3ms/step - loss: 0.3771 - accuracy: 0.8403 - val_loss: 0.3515 - val_accuracy: 0.8565\n",
            "Epoch 56/100\n",
            "250/250 [==============================] - 1s 4ms/step - loss: 0.3764 - accuracy: 0.8434 - val_loss: 0.3502 - val_accuracy: 0.8565\n",
            "Epoch 57/100\n",
            "250/250 [==============================] - 1s 4ms/step - loss: 0.3741 - accuracy: 0.8426 - val_loss: 0.3492 - val_accuracy: 0.8540\n",
            "Epoch 58/100\n",
            "250/250 [==============================] - 1s 4ms/step - loss: 0.3805 - accuracy: 0.8397 - val_loss: 0.3497 - val_accuracy: 0.8535\n",
            "Epoch 59/100\n",
            "250/250 [==============================] - 1s 4ms/step - loss: 0.3777 - accuracy: 0.8415 - val_loss: 0.3535 - val_accuracy: 0.8520\n",
            "Epoch 60/100\n",
            "250/250 [==============================] - 1s 3ms/step - loss: 0.3832 - accuracy: 0.8410 - val_loss: 0.3533 - val_accuracy: 0.8505\n",
            "Epoch 61/100\n",
            "250/250 [==============================] - 1s 3ms/step - loss: 0.3767 - accuracy: 0.8432 - val_loss: 0.3483 - val_accuracy: 0.8540\n",
            "Epoch 62/100\n",
            "250/250 [==============================] - 1s 2ms/step - loss: 0.3761 - accuracy: 0.8426 - val_loss: 0.3490 - val_accuracy: 0.8540\n",
            "Epoch 63/100\n",
            "250/250 [==============================] - 1s 3ms/step - loss: 0.3755 - accuracy: 0.8450 - val_loss: 0.3501 - val_accuracy: 0.8540\n",
            "Epoch 64/100\n",
            "250/250 [==============================] - 1s 3ms/step - loss: 0.3782 - accuracy: 0.8422 - val_loss: 0.3500 - val_accuracy: 0.8560\n",
            "Epoch 65/100\n",
            "250/250 [==============================] - 1s 3ms/step - loss: 0.3781 - accuracy: 0.8449 - val_loss: 0.3518 - val_accuracy: 0.8585\n",
            "Epoch 66/100\n",
            "250/250 [==============================] - 1s 3ms/step - loss: 0.3767 - accuracy: 0.8432 - val_loss: 0.3507 - val_accuracy: 0.8570\n",
            "Epoch 67/100\n",
            "250/250 [==============================] - 1s 3ms/step - loss: 0.3718 - accuracy: 0.8454 - val_loss: 0.3484 - val_accuracy: 0.8530\n",
            "Epoch 68/100\n",
            "250/250 [==============================] - 1s 3ms/step - loss: 0.3779 - accuracy: 0.8416 - val_loss: 0.3495 - val_accuracy: 0.8550\n",
            "Epoch 69/100\n",
            "250/250 [==============================] - 1s 3ms/step - loss: 0.3763 - accuracy: 0.8439 - val_loss: 0.3493 - val_accuracy: 0.8550\n",
            "Epoch 70/100\n",
            "250/250 [==============================] - 1s 3ms/step - loss: 0.3761 - accuracy: 0.8419 - val_loss: 0.3482 - val_accuracy: 0.8540\n",
            "Epoch 71/100\n",
            "250/250 [==============================] - 1s 3ms/step - loss: 0.3701 - accuracy: 0.8475 - val_loss: 0.3478 - val_accuracy: 0.8590\n",
            "Epoch 72/100\n",
            "250/250 [==============================] - 1s 3ms/step - loss: 0.3767 - accuracy: 0.8424 - val_loss: 0.3522 - val_accuracy: 0.8605\n",
            "Epoch 73/100\n",
            "250/250 [==============================] - 1s 3ms/step - loss: 0.3790 - accuracy: 0.8419 - val_loss: 0.3566 - val_accuracy: 0.8570\n",
            "Epoch 74/100\n",
            "250/250 [==============================] - 1s 4ms/step - loss: 0.3723 - accuracy: 0.8456 - val_loss: 0.3489 - val_accuracy: 0.8560\n",
            "Epoch 75/100\n",
            "250/250 [==============================] - 1s 4ms/step - loss: 0.3721 - accuracy: 0.8421 - val_loss: 0.3511 - val_accuracy: 0.8540\n",
            "Epoch 76/100\n",
            "250/250 [==============================] - 1s 4ms/step - loss: 0.3731 - accuracy: 0.8425 - val_loss: 0.3458 - val_accuracy: 0.8530\n",
            "Epoch 77/100\n",
            "250/250 [==============================] - 1s 4ms/step - loss: 0.3721 - accuracy: 0.8422 - val_loss: 0.3465 - val_accuracy: 0.8555\n",
            "Epoch 78/100\n",
            "250/250 [==============================] - 1s 3ms/step - loss: 0.3715 - accuracy: 0.8460 - val_loss: 0.3460 - val_accuracy: 0.8580\n",
            "Epoch 79/100\n",
            "250/250 [==============================] - 1s 3ms/step - loss: 0.3738 - accuracy: 0.8445 - val_loss: 0.3477 - val_accuracy: 0.8545\n",
            "Epoch 80/100\n",
            "250/250 [==============================] - 1s 2ms/step - loss: 0.3753 - accuracy: 0.8432 - val_loss: 0.3507 - val_accuracy: 0.8575\n",
            "Epoch 81/100\n",
            "250/250 [==============================] - 1s 3ms/step - loss: 0.3788 - accuracy: 0.8413 - val_loss: 0.3527 - val_accuracy: 0.8560\n",
            "Epoch 82/100\n",
            "250/250 [==============================] - 1s 3ms/step - loss: 0.3725 - accuracy: 0.8440 - val_loss: 0.3469 - val_accuracy: 0.8545\n",
            "Epoch 83/100\n",
            "250/250 [==============================] - 1s 2ms/step - loss: 0.3747 - accuracy: 0.8454 - val_loss: 0.3473 - val_accuracy: 0.8610\n",
            "Epoch 84/100\n",
            "250/250 [==============================] - 1s 3ms/step - loss: 0.3740 - accuracy: 0.8432 - val_loss: 0.3498 - val_accuracy: 0.8580\n",
            "Epoch 85/100\n",
            "250/250 [==============================] - 1s 3ms/step - loss: 0.3716 - accuracy: 0.8478 - val_loss: 0.3477 - val_accuracy: 0.8545\n",
            "Epoch 86/100\n",
            "250/250 [==============================] - 1s 3ms/step - loss: 0.3671 - accuracy: 0.8479 - val_loss: 0.3459 - val_accuracy: 0.8585\n",
            "Epoch 87/100\n",
            "250/250 [==============================] - 1s 3ms/step - loss: 0.3706 - accuracy: 0.8476 - val_loss: 0.3482 - val_accuracy: 0.8575\n",
            "Epoch 88/100\n",
            "250/250 [==============================] - 1s 3ms/step - loss: 0.3732 - accuracy: 0.8455 - val_loss: 0.3484 - val_accuracy: 0.8570\n",
            "Epoch 89/100\n",
            "250/250 [==============================] - 1s 3ms/step - loss: 0.3739 - accuracy: 0.8455 - val_loss: 0.3532 - val_accuracy: 0.8555\n",
            "Epoch 90/100\n",
            "250/250 [==============================] - 1s 3ms/step - loss: 0.3725 - accuracy: 0.8443 - val_loss: 0.3470 - val_accuracy: 0.8570\n",
            "Epoch 91/100\n",
            "250/250 [==============================] - 1s 4ms/step - loss: 0.3710 - accuracy: 0.8444 - val_loss: 0.3471 - val_accuracy: 0.8595\n",
            "Epoch 92/100\n",
            "250/250 [==============================] - 1s 5ms/step - loss: 0.3698 - accuracy: 0.8430 - val_loss: 0.3456 - val_accuracy: 0.8590\n",
            "Epoch 93/100\n",
            "250/250 [==============================] - 1s 4ms/step - loss: 0.3707 - accuracy: 0.8462 - val_loss: 0.3487 - val_accuracy: 0.8610\n",
            "Epoch 94/100\n",
            "250/250 [==============================] - 1s 4ms/step - loss: 0.3735 - accuracy: 0.8451 - val_loss: 0.3470 - val_accuracy: 0.8600\n",
            "Epoch 95/100\n",
            "250/250 [==============================] - 1s 3ms/step - loss: 0.3700 - accuracy: 0.8457 - val_loss: 0.3482 - val_accuracy: 0.8565\n",
            "Epoch 96/100\n",
            "250/250 [==============================] - 1s 3ms/step - loss: 0.3735 - accuracy: 0.8424 - val_loss: 0.3472 - val_accuracy: 0.8575\n",
            "Epoch 97/100\n",
            "250/250 [==============================] - 1s 3ms/step - loss: 0.3706 - accuracy: 0.8446 - val_loss: 0.3504 - val_accuracy: 0.8590\n",
            "Epoch 98/100\n",
            "250/250 [==============================] - 1s 3ms/step - loss: 0.3767 - accuracy: 0.8434 - val_loss: 0.3497 - val_accuracy: 0.8605\n",
            "Epoch 99/100\n",
            "250/250 [==============================] - 1s 3ms/step - loss: 0.3711 - accuracy: 0.8425 - val_loss: 0.3490 - val_accuracy: 0.8595\n",
            "Epoch 100/100\n",
            "250/250 [==============================] - 1s 3ms/step - loss: 0.3706 - accuracy: 0.8443 - val_loss: 0.3471 - val_accuracy: 0.8595\n"
          ]
        }
      ]
    },
    {
      "cell_type": "markdown",
      "source": [
        "**Test Metrics**"
      ],
      "metadata": {
        "id": "SbBFVS0SgGjR"
      }
    },
    {
      "cell_type": "code",
      "source": [
        "# Make predictions\n",
        "y_pred = (model.predict(X_test) > 0.5).astype(\"int32\")\n",
        "\n",
        "# Evaluate the model\n",
        "print(\"Accuracy:\", accuracy_score(y_test, y_pred))\n",
        "print(\"Classification Report:\\n\", classification_report(y_test, y_pred))\n",
        "print(\"Confusion Matrix:\\n\", confusion_matrix(y_test, y_pred))\n"
      ],
      "metadata": {
        "colab": {
          "base_uri": "https://localhost:8080/"
        },
        "id": "T7Mhnqm7fZZz",
        "outputId": "f3791245-ddbc-4272-a4bb-ffc8a822009d"
      },
      "execution_count": 10,
      "outputs": [
        {
          "output_type": "stream",
          "name": "stdout",
          "text": [
            "63/63 [==============================] - 0s 1ms/step\n",
            "Accuracy: 0.8595\n",
            "Classification Report:\n",
            "               precision    recall  f1-score   support\n",
            "\n",
            "           0       0.87      0.97      0.92      1607\n",
            "           1       0.77      0.40      0.53       393\n",
            "\n",
            "    accuracy                           0.86      2000\n",
            "   macro avg       0.82      0.69      0.72      2000\n",
            "weighted avg       0.85      0.86      0.84      2000\n",
            "\n",
            "Confusion Matrix:\n",
            " [[1560   47]\n",
            " [ 234  159]]\n"
          ]
        }
      ]
    },
    {
      "cell_type": "markdown",
      "source": [
        "**Make prediction**"
      ],
      "metadata": {
        "id": "JreZgCXlgNRd"
      }
    },
    {
      "cell_type": "code",
      "source": [
        "import numpy as np\n",
        "\n",
        "# Function to take user input, preprocess, and predict churn\n",
        "def predict_churn():\n",
        "    # Collect user input\n",
        "    print(\"Enter the details of the customer:\")\n",
        "    credit_score = float(input(\"Credit Score: \"))\n",
        "    geography = input(\"Geography (France/Spain/Germany): \")\n",
        "    gender = input(\"Gender (Male/Female): \")\n",
        "    age = int(input(\"Age: \"))\n",
        "    tenure = int(input(\"Tenure: \"))\n",
        "    balance = float(input(\"Balance: \"))\n",
        "    num_of_products = int(input(\"Number of Products: \"))\n",
        "    has_cr_card = int(input(\"Has Credit Card (0/1): \"))\n",
        "    is_active_member = int(input(\"Is Active Member (0/1): \"))\n",
        "    estimated_salary = float(input(\"Estimated Salary: \"))\n",
        "\n",
        "    # Preprocess the input\n",
        "    geography_encoded = label_encoder_geography.transform([geography])[0]\n",
        "    gender_encoded = label_encoder_gender.transform([gender])[0]\n",
        "\n",
        "    # Create a DataFrame for the input\n",
        "    input_data = pd.DataFrame({\n",
        "        'CreditScore': [credit_score],\n",
        "        'Geography': [geography_encoded],\n",
        "        'Gender': [gender_encoded],\n",
        "        'Age': [age],\n",
        "        'Tenure': [tenure],\n",
        "        'Balance': [balance],\n",
        "        'NumOfProducts': [num_of_products],\n",
        "        'HasCrCard': [has_cr_card],\n",
        "        'IsActiveMember': [is_active_member],\n",
        "        'EstimatedSalary': [estimated_salary]\n",
        "    })\n",
        "\n",
        "    # Scale the input data\n",
        "    input_scaled = scaler.transform(input_data)\n",
        "\n",
        "    # Predict using the trained model\n",
        "    prediction = model.predict(input_scaled)\n",
        "\n",
        "    # Output the prediction\n",
        "    churn_prob = prediction[0][0]\n",
        "    print(f\"Churn Probability: {churn_prob:.2f}\")\n",
        "    if churn_prob > 0.5:\n",
        "        print(\"Prediction: The customer is likely to churn.\")\n",
        "    else:\n",
        "        print(\"Prediction: The customer is not likely to churn.\")\n",
        "\n",
        "# Call the function to predict churn\n",
        "predict_churn()\n"
      ],
      "metadata": {
        "colab": {
          "base_uri": "https://localhost:8080/"
        },
        "id": "uQIc237GgQwn",
        "outputId": "23dc6dda-35fd-4ffa-cb62-54c8321ed1bb"
      },
      "execution_count": 11,
      "outputs": [
        {
          "output_type": "stream",
          "name": "stdout",
          "text": [
            "Enter the details of the customer:\n",
            "Credit Score: 616\n",
            "Geography (France/Spain/Germany): France\n",
            "Gender (Male/Female): Male\n",
            "Age: 69\n",
            "Tenure: 10\n",
            "Balance: 619987\n",
            "Number of Products: 4\n",
            "Has Credit Card (0/1): 1\n",
            "Is Active Member (0/1): 0\n",
            "Estimated Salary: 10198\n",
            "1/1 [==============================] - 0s 24ms/step\n",
            "Churn Probability: 1.00\n",
            "Prediction: The customer is likely to churn.\n"
          ]
        }
      ]
    },
    {
      "cell_type": "code",
      "source": [],
      "metadata": {
        "id": "IpZEOKI-3_-R"
      },
      "execution_count": null,
      "outputs": []
    }
  ]
}